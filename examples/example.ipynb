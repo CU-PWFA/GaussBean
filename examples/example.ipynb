{
 "cells": [
  {
   "cell_type": "markdown",
   "id": "11cffd2b-7142-445d-bee3-76807f26842c",
   "metadata": {},
   "source": [
    "# NOTES:"
   ]
  },
  {
   "cell_type": "markdown",
   "id": "3e1fbeb5-fdc9-4b5d-a624-0b96ccef04e2",
   "metadata": {},
   "source": [
    "- When I refer to functions in this notebook, I am specifying ALL of the options. Not all of these options are necessary. If you want to know which options are necessary and which aren't, please refer to the respective Python file.\n",
    "- On most of the filtering examples, I made the plots very dramatic such that you can see a difference. Remember that image analysis is an art, so I DO NOT recommend doing what I have done on your actual images."
   ]
  },
  {
   "cell_type": "markdown",
   "id": "8bd636bc-c597-4e4e-9522-a2792f66bf23",
   "metadata": {},
   "source": [
    "# Example Jupyter Notebook for GaussBean"
   ]
  },
  {
   "cell_type": "markdown",
   "id": "6b1e9985-5a76-47ef-bcbd-46318d7d785c",
   "metadata": {},
   "source": [
    "Hi and welcome to GaussBean, a *GAUSS*ian *BE*am *AN*alysis package. If you're here, I'm assuming that you followed the installation instructions on the README file and are now looking for some information on how to actually *use* the package."
   ]
  },
  {
   "cell_type": "markdown",
   "id": "53d131b4-152d-488a-857f-9aad33481594",
   "metadata": {},
   "source": [
    "To start, let's import the package into the file and specify a specific image we want to do our analysis on:"
   ]
  },
  {
   "cell_type": "code",
   "execution_count": null,
   "id": "50c80be2-f4bc-49fb-9690-78565438aaac",
   "metadata": {},
   "outputs": [],
   "source": [
    "import gaussbean\n",
    "\n",
    "# let's go ahead and specify the path of the image that we want to run all of our analysis on\n",
    "imgpath = \"/path/to/your/image.tiff\""
   ]
  },
  {
   "cell_type": "markdown",
   "id": "ad3bfb8d-bfe9-45c2-9e81-9b41bc3281dc",
   "metadata": {
    "jp-MarkdownHeadingCollapsed": true
   },
   "source": [
    "## --> Making Images \"Prettier\""
   ]
  },
  {
   "cell_type": "markdown",
   "id": "9b190960-e7fe-4d3c-b26a-7be7fc202938",
   "metadata": {},
   "source": [
    "Now that we've got that done, we can first do some operations on images to make them \"prettier\" (all functions I'm referring to here can be found in the \"prettier.py\" file under the \"singleimage\" folder on GitHub; if you want MORE documentation, refer to this file).\n",
    "\n",
    "Let's start by using a median filter to get rid of some unwanted \"salt and pepper\" noise (spiky, intense, dead pixels that are always in the image but that we don't really care about)."
   ]
  },
  {
   "cell_type": "code",
   "execution_count": null,
   "id": "1c6b0fe6-868e-471f-bc5e-d24fd1c6d9d6",
   "metadata": {},
   "outputs": [],
   "source": [
    "# now, we can just call the function to run the image at this path through a median filter. This function returns an ARRAY\n",
    "prettier.thru_median()"
   ]
  },
  {
   "cell_type": "code",
   "execution_count": null,
   "id": "985f7371-0f90-4249-afb8-62b099f1e4ec",
   "metadata": {},
   "outputs": [],
   "source": [
    "# if we use the plot_median() function, you get an plot of the original image and the image AFTER the median filter\n",
    "prettier.plot_median()"
   ]
  },
  {
   "cell_type": "markdown",
   "id": "222baef7-128e-4b65-a161-a6cc3bbd3367",
   "metadata": {},
   "source": [
    "We can do the same thing for the low-pass filter to get rid of larger, unwanted diffraction patterns that you might see in the original image. This filter, in a way, also *blurs* the image:"
   ]
  },
  {
   "cell_type": "code",
   "execution_count": null,
   "id": "211ec39a-d4af-4f84-be64-a5e77a6b11da",
   "metadata": {},
   "outputs": [],
   "source": [
    "# now, we can just call the function to run the image at this path through a low-pass filter. This function returns an ARRAY\n",
    "prettier.thru_lowpass()"
   ]
  },
  {
   "cell_type": "code",
   "execution_count": null,
   "id": "fb3b2547-8934-406b-b282-a8920e41e0ed",
   "metadata": {},
   "outputs": [],
   "source": [
    "# if we use the plot_lowpass() function, you get an PLOT of the original image and the image AFTER the median filter\n",
    "prettier.plot_lowpass()"
   ]
  },
  {
   "cell_type": "markdown",
   "id": "5e316b1d-cc9d-40e3-86e1-cabdb17d6064",
   "metadata": {},
   "source": [
    "## --> Single Image Analysis"
   ]
  },
  {
   "cell_type": "markdown",
   "id": "c253e368-01a3-4587-8b5b-0878e08434b7",
   "metadata": {},
   "source": [
    "The entire package (including the \"making images prettier\" part above) is split in half for either single image analysis or full dataset analysis. What this means are things like median filters, low-pass filters, intensity profiles, etc., are all considered analysis for single images. Things like quadratic or waist fits are considered full dataset analysis for scans.\n",
    "\n",
    "If you want the same functionality of the single image analysis for an entire dataset, this functionality *is* implemented in the package, but it might take a while to run median filters over every single image in a dataset. This is discussed in the section \"Full Dataset Analysis\" below."
   ]
  },
  {
   "cell_type": "markdown",
   "id": "188e32c9-4e9c-4a30-82ba-56350699a551",
   "metadata": {},
   "source": [
    "In terms of single image analysis, you can run intensity profiles using either lineouts OR projections. For lineouts:"
   ]
  },
  {
   "cell_type": "code",
   "execution_count": null,
   "id": "f1a6a490-cb7c-4c5a-ae90-6b05878e4767",
   "metadata": {},
   "outputs": [],
   "source": []
  },
  {
   "cell_type": "markdown",
   "id": "66d86340-2a5e-4fc0-b47d-de67ab64a4b7",
   "metadata": {},
   "source": [
    "And for projections:"
   ]
  },
  {
   "cell_type": "code",
   "execution_count": null,
   "id": "b24f821b-b9a3-4158-b2f5-86ba275a5442",
   "metadata": {},
   "outputs": [],
   "source": []
  },
  {
   "cell_type": "markdown",
   "id": "30ee4316-0075-460b-bf2f-6230dccc8587",
   "metadata": {},
   "source": [
    "## --> Full Dataset Analysis"
   ]
  },
  {
   "cell_type": "markdown",
   "id": "d4bb0a34-2b49-45b2-8d37-4d978e400ae0",
   "metadata": {},
   "source": [
    "As was mentioned previously in this notebook, "
   ]
  },
  {
   "cell_type": "markdown",
   "id": "52097975-987e-4c03-ae9a-f3a44202789d",
   "metadata": {},
   "source": [
    "## --> Making GIFs"
   ]
  },
  {
   "cell_type": "markdown",
   "id": "cee8faf3-ce61-4ab3-bfbf-9d9981705c3d",
   "metadata": {},
   "source": [
    "## --> Requesting New Functionality"
   ]
  },
  {
   "cell_type": "markdown",
   "id": "afae832b-bd93-427b-b4df-ef83faecf9d7",
   "metadata": {},
   "source": [
    "If you'd like to request something new for this package, you're absolutely welcome to reach out to me. You're also welcome to just take everything off of GitHub and"
   ]
  }
 ],
 "metadata": {
  "kernelspec": {
   "display_name": "Python 3 (ipykernel)",
   "language": "python",
   "name": "python3"
  },
  "language_info": {
   "codemirror_mode": {
    "name": "ipython",
    "version": 3
   },
   "file_extension": ".py",
   "mimetype": "text/x-python",
   "name": "python",
   "nbconvert_exporter": "python",
   "pygments_lexer": "ipython3",
   "version": "3.10.12"
  }
 },
 "nbformat": 4,
 "nbformat_minor": 5
}
